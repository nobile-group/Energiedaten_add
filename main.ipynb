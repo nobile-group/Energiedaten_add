{
 "cells": [
  {
   "cell_type": "code",
   "execution_count": 1,
   "metadata": {},
   "outputs": [],
   "source": [
    "import pandas as pd "
   ]
  },
  {
   "cell_type": "code",
   "execution_count": 4,
   "metadata": {},
   "outputs": [],
   "source": [
    "xlsx1 = pd.read_excel(\"Report_AT00100000000RC101856000000000349_20240915_20241001_202410010825.xlsx\", sheet_name=\"Energiedaten\")\n",
    "xlsx2 = pd.read_excel(\"Report_ATCC9999DYNAMCC100298000000000114_20240915_20241001_202410010825.xlsx\", sheet_name=\"Energiedaten\")"
   ]
  },
  {
   "cell_type": "code",
   "execution_count": 23,
   "metadata": {},
   "outputs": [],
   "source": [
    "tmp1 = xlsx1\n",
    "tmp2 = xlsx2"
   ]
  },
  {
   "cell_type": "code",
   "execution_count": 24,
   "metadata": {},
   "outputs": [],
   "source": [
    "import re\n",
    "import numpy as np\n",
    "\n",
    "# Define the pattern\n",
    "pattern = r'AT\\d{32}'\n",
    "\n",
    "# Function to check if a column name matches the pattern\n",
    "def matches_pattern(column_name):\n",
    "    return bool(re.match(pattern, column_name))\n",
    "\n",
    "# Iterate through columns in tmp2 and add matching ones to tmp1\n",
    "for col in tmp2.columns:\n",
    "    if matches_pattern(col) and col in tmp1.columns:\n",
    "        # Keep original values for rows 0-14\n",
    "        # No conversion needed here as we're keeping original values\n",
    "        \n",
    "        # Add values from row 15 onwards\n",
    "        # Convert to float only for the addition operation\n",
    "        min_length = min(len(tmp1.index[15:]), len(tmp2.index[15:]))\n",
    "        \n",
    "        tmp1.iloc[15:15+min_length, tmp1.columns.get_loc(col)] = (\n",
    "            tmp1.iloc[15:15+min_length, tmp1.columns.get_loc(col)].astype(float).values +\n",
    "            tmp2.iloc[15:15+min_length, tmp2.columns.get_loc(col)].astype(float).values\n",
    "        )"
   ]
  },
  {
   "cell_type": "code",
   "execution_count": 25,
   "metadata": {},
   "outputs": [],
   "source": [
    "tmp1.to_excel('filename.xlsx', index=False)"
   ]
  }
 ],
 "metadata": {
  "kernelspec": {
   "display_name": ".venv",
   "language": "python",
   "name": "python3"
  },
  "language_info": {
   "codemirror_mode": {
    "name": "ipython",
    "version": 3
   },
   "file_extension": ".py",
   "mimetype": "text/x-python",
   "name": "python",
   "nbconvert_exporter": "python",
   "pygments_lexer": "ipython3",
   "version": "3.12.6"
  }
 },
 "nbformat": 4,
 "nbformat_minor": 2
}
